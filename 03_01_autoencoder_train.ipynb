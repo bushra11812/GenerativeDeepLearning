{
  "nbformat": 4,
  "nbformat_minor": 0,
  "metadata": {
    "colab": {
      "name": "03_01_autoencoder_train.ipynb",
      "provenance": []
    },
    "kernelspec": {
      "name": "python3",
      "display_name": "Python 3"
    },
    "accelerator": "GPU"
  },
  "cells": [
    {
      "cell_type": "markdown",
      "metadata": {
        "id": "Zlj8Ewb-Rel8",
        "colab_type": "text"
      },
      "source": [
        "# AutoEncoder"
      ]
    },
    {
      "cell_type": "code",
      "metadata": {
        "id": "BBf-ktH7RkJC",
        "colab_type": "code",
        "outputId": "61c1ef98-802a-43a9-a83a-26bc40adefcb",
        "colab": {
          "base_uri": "https://localhost:8080/",
          "height": 34
        }
      },
      "source": [
        "import numpy as np\n",
        "%tensorflow_version 2.x\n",
        "import tensorflow as tf\n",
        "from tensorflow import keras\n",
        "from tensorflow.keras.datasets import mnist\n",
        "from tensorflow.keras.utils import to_categorical"
      ],
      "execution_count": 1,
      "outputs": [
        {
          "output_type": "stream",
          "text": [
            "TensorFlow 2.x selected.\n"
          ],
          "name": "stdout"
        }
      ]
    },
    {
      "cell_type": "code",
      "metadata": {
        "id": "XVLy-KIXR5TA",
        "colab_type": "code",
        "outputId": "282c7a23-aeac-4568-e6ee-e05b5a642c2a",
        "colab": {
          "base_uri": "https://localhost:8080/",
          "height": 52
        }
      },
      "source": [
        "(x_train, _), (x_test, _) = mnist.load_data()\n",
        "x_train = x_train.reshape((60000,28,28,1))\n",
        "x_train = x_train/255.0"
      ],
      "execution_count": 2,
      "outputs": [
        {
          "output_type": "stream",
          "text": [
            "Downloading data from https://storage.googleapis.com/tensorflow/tf-keras-datasets/mnist.npz\n",
            "11493376/11490434 [==============================] - 0s 0us/step\n"
          ],
          "name": "stdout"
        }
      ]
    },
    {
      "cell_type": "markdown",
      "metadata": {
        "id": "1azz4MAhTVVv",
        "colab_type": "text"
      },
      "source": [
        "# Define Encoder."
      ]
    },
    {
      "cell_type": "code",
      "metadata": {
        "id": "-39zfCrCTDF3",
        "colab_type": "code",
        "outputId": "1ba751f8-00c8-4ee7-9c6f-0b5a82412184",
        "colab": {
          "base_uri": "https://localhost:8080/",
          "height": 545
        }
      },
      "source": [
        "from tensorflow.keras.layers import *\n",
        "from tensorflow.keras.models import Model\n",
        "\n",
        "encoder_input = Input(shape=(28,28,1,), name='encoder_input')\n",
        "x = encoder_input\n",
        "\n",
        "encoder_conv_filters = [32,64,64,64]\n",
        "encoder_conv_kernel_size = 3\n",
        "encoder_conv_strides = [1,2,2,1]\n",
        "\n",
        "for i in range(4):\n",
        "  conv_layer = Conv2D(filters=encoder_conv_filters[i],\n",
        "                      kernel_size = encoder_conv_kernel_size,\n",
        "                      strides = encoder_conv_strides[i],\n",
        "                      padding = 'same',\n",
        "                      name = 'encoder_conv_' + str(i))\n",
        "  \n",
        "  x = conv_layer(x)\n",
        "  x = LeakyReLU()(x)\n",
        "\n",
        "shape_before_flattening = keras.backend.int_shape(x)[1:]\n",
        "x = Flatten()(x)\n",
        "\n",
        "encoder_output = Dense(2, name='encoder_output')(x)\n",
        "encoder = Model(encoder_input, encoder_output, name='Encoder')\n",
        "encoder.summary()"
      ],
      "execution_count": 3,
      "outputs": [
        {
          "output_type": "stream",
          "text": [
            "Model: \"Encoder\"\n",
            "_________________________________________________________________\n",
            "Layer (type)                 Output Shape              Param #   \n",
            "=================================================================\n",
            "encoder_input (InputLayer)   [(None, 28, 28, 1)]       0         \n",
            "_________________________________________________________________\n",
            "encoder_conv_0 (Conv2D)      (None, 28, 28, 32)        320       \n",
            "_________________________________________________________________\n",
            "leaky_re_lu (LeakyReLU)      (None, 28, 28, 32)        0         \n",
            "_________________________________________________________________\n",
            "encoder_conv_1 (Conv2D)      (None, 14, 14, 64)        18496     \n",
            "_________________________________________________________________\n",
            "leaky_re_lu_1 (LeakyReLU)    (None, 14, 14, 64)        0         \n",
            "_________________________________________________________________\n",
            "encoder_conv_2 (Conv2D)      (None, 7, 7, 64)          36928     \n",
            "_________________________________________________________________\n",
            "leaky_re_lu_2 (LeakyReLU)    (None, 7, 7, 64)          0         \n",
            "_________________________________________________________________\n",
            "encoder_conv_3 (Conv2D)      (None, 7, 7, 64)          36928     \n",
            "_________________________________________________________________\n",
            "leaky_re_lu_3 (LeakyReLU)    (None, 7, 7, 64)          0         \n",
            "_________________________________________________________________\n",
            "flatten (Flatten)            (None, 3136)              0         \n",
            "_________________________________________________________________\n",
            "encoder_output (Dense)       (None, 2)                 6274      \n",
            "=================================================================\n",
            "Total params: 98,946\n",
            "Trainable params: 98,946\n",
            "Non-trainable params: 0\n",
            "_________________________________________________________________\n"
          ],
          "name": "stdout"
        }
      ]
    },
    {
      "cell_type": "markdown",
      "metadata": {
        "id": "7CbuBYI_dvOB",
        "colab_type": "text"
      },
      "source": [
        "# Define Decoder"
      ]
    },
    {
      "cell_type": "code",
      "metadata": {
        "id": "hnsVfMSxatV9",
        "colab_type": "code",
        "outputId": "020f3079-83b5-43d8-f28d-e8a230db84b1",
        "colab": {
          "base_uri": "https://localhost:8080/",
          "height": 545
        }
      },
      "source": [
        "decoder_input = Input(shape=(2), name='decoder_input')\n",
        "\n",
        "x = Dense(np.prod(shape_before_flattening))(decoder_input)\n",
        "x = Reshape(shape_before_flattening)(x)\n",
        "\n",
        "decoder_conv_t_filters = [64,64,32,1]\n",
        "decoder_conv_t_kernel_size = 3\n",
        "decoder_conv_t_strides = [1,2,2,1]\n",
        "\n",
        "for i in range(4):\n",
        "  conv_t_layer = Conv2DTranspose(\n",
        "                      filters=decoder_conv_t_filters[i],\n",
        "                      kernel_size = decoder_conv_t_kernel_size,\n",
        "                      strides = decoder_conv_t_strides[i],\n",
        "                      padding = 'same',\n",
        "                      name = 'decoder_conv_t_' + str(i))\n",
        "  \n",
        "  x = conv_t_layer(x)\n",
        "  if i < 4-1:\n",
        "    x = LeakyReLU()(x)\n",
        "  else:\n",
        "    x = Activation('sigmoid')(x)\n",
        "\n",
        "decoder_output = x\n",
        "\n",
        "decoder = Model(decoder_input, decoder_output, name='Decoder')\n",
        "decoder.summary()"
      ],
      "execution_count": 4,
      "outputs": [
        {
          "output_type": "stream",
          "text": [
            "Model: \"Decoder\"\n",
            "_________________________________________________________________\n",
            "Layer (type)                 Output Shape              Param #   \n",
            "=================================================================\n",
            "decoder_input (InputLayer)   [(None, 2)]               0         \n",
            "_________________________________________________________________\n",
            "dense (Dense)                (None, 3136)              9408      \n",
            "_________________________________________________________________\n",
            "reshape (Reshape)            (None, 7, 7, 64)          0         \n",
            "_________________________________________________________________\n",
            "decoder_conv_t_0 (Conv2DTran (None, 7, 7, 64)          36928     \n",
            "_________________________________________________________________\n",
            "leaky_re_lu_4 (LeakyReLU)    (None, 7, 7, 64)          0         \n",
            "_________________________________________________________________\n",
            "decoder_conv_t_1 (Conv2DTran (None, 14, 14, 64)        36928     \n",
            "_________________________________________________________________\n",
            "leaky_re_lu_5 (LeakyReLU)    (None, 14, 14, 64)        0         \n",
            "_________________________________________________________________\n",
            "decoder_conv_t_2 (Conv2DTran (None, 28, 28, 32)        18464     \n",
            "_________________________________________________________________\n",
            "leaky_re_lu_6 (LeakyReLU)    (None, 28, 28, 32)        0         \n",
            "_________________________________________________________________\n",
            "decoder_conv_t_3 (Conv2DTran (None, 28, 28, 1)         289       \n",
            "_________________________________________________________________\n",
            "activation (Activation)      (None, 28, 28, 1)         0         \n",
            "=================================================================\n",
            "Total params: 102,017\n",
            "Trainable params: 102,017\n",
            "Non-trainable params: 0\n",
            "_________________________________________________________________\n"
          ],
          "name": "stdout"
        }
      ]
    },
    {
      "cell_type": "markdown",
      "metadata": {
        "id": "77A-NfnMd1kk",
        "colab_type": "text"
      },
      "source": [
        "# Autoencoder"
      ]
    },
    {
      "cell_type": "code",
      "metadata": {
        "id": "l67R09a6d4Wi",
        "colab_type": "code",
        "outputId": "ffa3355c-51ee-4d91-a164-f6b45b8405cf",
        "colab": {
          "base_uri": "https://localhost:8080/",
          "height": 580
        }
      },
      "source": [
        "from tensorflow.keras.utils import plot_model\n",
        "\n",
        "model_input = encoder_input\n",
        "model_output = decoder(encoder_output)\n",
        "model = Model(model_input, model_output, name='AutoEncoder')\n",
        "\n",
        "#plot_model(model, show_shapes=True)\n",
        "model.summary()"
      ],
      "execution_count": 5,
      "outputs": [
        {
          "output_type": "stream",
          "text": [
            "Model: \"AutoEncoder\"\n",
            "_________________________________________________________________\n",
            "Layer (type)                 Output Shape              Param #   \n",
            "=================================================================\n",
            "encoder_input (InputLayer)   [(None, 28, 28, 1)]       0         \n",
            "_________________________________________________________________\n",
            "encoder_conv_0 (Conv2D)      (None, 28, 28, 32)        320       \n",
            "_________________________________________________________________\n",
            "leaky_re_lu (LeakyReLU)      (None, 28, 28, 32)        0         \n",
            "_________________________________________________________________\n",
            "encoder_conv_1 (Conv2D)      (None, 14, 14, 64)        18496     \n",
            "_________________________________________________________________\n",
            "leaky_re_lu_1 (LeakyReLU)    (None, 14, 14, 64)        0         \n",
            "_________________________________________________________________\n",
            "encoder_conv_2 (Conv2D)      (None, 7, 7, 64)          36928     \n",
            "_________________________________________________________________\n",
            "leaky_re_lu_2 (LeakyReLU)    (None, 7, 7, 64)          0         \n",
            "_________________________________________________________________\n",
            "encoder_conv_3 (Conv2D)      (None, 7, 7, 64)          36928     \n",
            "_________________________________________________________________\n",
            "leaky_re_lu_3 (LeakyReLU)    (None, 7, 7, 64)          0         \n",
            "_________________________________________________________________\n",
            "flatten (Flatten)            (None, 3136)              0         \n",
            "_________________________________________________________________\n",
            "encoder_output (Dense)       (None, 2)                 6274      \n",
            "_________________________________________________________________\n",
            "Decoder (Model)              (None, 28, 28, 1)         102017    \n",
            "=================================================================\n",
            "Total params: 200,963\n",
            "Trainable params: 200,963\n",
            "Non-trainable params: 0\n",
            "_________________________________________________________________\n"
          ],
          "name": "stdout"
        }
      ]
    },
    {
      "cell_type": "markdown",
      "metadata": {
        "id": "MbGM9zOVfEPx",
        "colab_type": "text"
      },
      "source": [
        "# Compile\n",
        "Compile using Adam optimizer with 0.0005 learning rate, Root Mean Squared Error:RMSE."
      ]
    },
    {
      "cell_type": "code",
      "metadata": {
        "id": "-WkIK_78fFai",
        "colab_type": "code",
        "colab": {}
      },
      "source": [
        "from tensorflow.keras.optimizers import Adam\n",
        "\n",
        "optimizer = Adam(lr=0.005)\n",
        "\n",
        "def r_loss(y_true, y_pred):\n",
        "  return keras.backend.mean(keras.backend.square(y_true - y_pred), axis = [1,2,3])\n",
        "\n",
        "model.compile(optimizer=optimizer, loss=r_loss)"
      ],
      "execution_count": 0,
      "outputs": []
    },
    {
      "cell_type": "code",
      "metadata": {
        "id": "YBgTdkNjgAJ9",
        "colab_type": "code",
        "outputId": "f554925b-03a9-4813-c4ef-9debbd9355e7",
        "colab": {
          "base_uri": "https://localhost:8080/",
          "height": 404
        }
      },
      "source": [
        "model.fit(\n",
        "    x = x_train,\n",
        "    y = x_train,\n",
        "    batch_size = 32,\n",
        "    shuffle = True,\n",
        "    epochs = 10,\n",
        "    verbose = 2\n",
        ")"
      ],
      "execution_count": 7,
      "outputs": [
        {
          "output_type": "stream",
          "text": [
            "Train on 60000 samples\n",
            "Epoch 1/10\n",
            "60000/60000 - 14s - loss: 0.0502\n",
            "Epoch 2/10\n",
            "60000/60000 - 9s - loss: 0.0464\n",
            "Epoch 3/10\n",
            "60000/60000 - 9s - loss: 0.0454\n",
            "Epoch 4/10\n",
            "60000/60000 - 9s - loss: 0.0448\n",
            "Epoch 5/10\n",
            "60000/60000 - 9s - loss: 0.0445\n",
            "Epoch 6/10\n",
            "60000/60000 - 10s - loss: 0.0443\n",
            "Epoch 7/10\n",
            "60000/60000 - 9s - loss: 0.0440\n",
            "Epoch 8/10\n",
            "60000/60000 - 9s - loss: 0.0439\n",
            "Epoch 9/10\n",
            "60000/60000 - 9s - loss: 0.0438\n",
            "Epoch 10/10\n",
            "60000/60000 - 9s - loss: 0.0437\n"
          ],
          "name": "stdout"
        },
        {
          "output_type": "execute_result",
          "data": {
            "text/plain": [
              "<tensorflow.python.keras.callbacks.History at 0x7fcb7af56cf8>"
            ]
          },
          "metadata": {
            "tags": []
          },
          "execution_count": 7
        }
      ]
    }
  ]
}